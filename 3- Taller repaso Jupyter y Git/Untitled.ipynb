{
 "cells": [
  {
   "cell_type": "code",
   "execution_count": 3,
   "id": "cedf9573",
   "metadata": {
    "scrolled": true
   },
   "outputs": [
    {
     "name": "stdout",
     "output_type": "stream",
     "text": [
      "Es el primer bloque del proyecto\n"
     ]
    }
   ],
   "source": [
    "print('Es el primer bloque del proyecto')\n",
    "pi=3.14"
   ]
  },
  {
   "cell_type": "code",
   "execution_count": 4,
   "id": "44b34e80",
   "metadata": {
    "scrolled": false
   },
   "outputs": [
    {
     "name": "stdout",
     "output_type": "stream",
     "text": [
      "Segundo bloque del proyecto\n",
      "3.14\n"
     ]
    }
   ],
   "source": [
    "print('Segundo bloque del proyecto')\n",
    "print(pi)"
   ]
  },
  {
   "cell_type": "markdown",
   "id": "fcaebb58",
   "metadata": {},
   "source": [
    "# Universidad Autónoma de Entre Ríos\n",
    "## Facultad de Ciencia y Tecnología\n",
    "### Sede Concepción del Uruguay\n",
    "Licenciatura en Sistema de Información:\n",
    "- Primer año\n",
    "- Segundo año\n",
    "- **Tercer** año\n",
    "- Cuarto año\n",
    "- Quinto año\n",
    "\n",
    "\n",
    "![Imagen](https://miro.medium.com/max/731/1*RQBY0LUv-ItFuhJujhjkUg.png)"
   ]
  }
 ],
 "metadata": {
  "kernelspec": {
   "display_name": "Python 3 (ipykernel)",
   "language": "python",
   "name": "python3"
  },
  "language_info": {
   "codemirror_mode": {
    "name": "ipython",
    "version": 3
   },
   "file_extension": ".py",
   "mimetype": "text/x-python",
   "name": "python",
   "nbconvert_exporter": "python",
   "pygments_lexer": "ipython3",
   "version": "3.10.4"
  }
 },
 "nbformat": 4,
 "nbformat_minor": 5
}
